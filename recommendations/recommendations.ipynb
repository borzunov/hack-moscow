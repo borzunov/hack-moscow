{
 "cells": [
  {
   "cell_type": "code",
   "execution_count": 2,
   "metadata": {},
   "outputs": [],
   "source": [
    "from collections import Counter\n",
    "\n",
    "import matplotlib.pyplot as plt\n",
    "import numpy as np\n",
    "import pandas as pd\n",
    "import scipy.sparse\n",
    "from annoy import AnnoyIndex\n",
    "\n",
    "%matplotlib inline"
   ]
  },
  {
   "cell_type": "code",
   "execution_count": 235,
   "metadata": {},
   "outputs": [],
   "source": [
    "from sklearn.metrics import mean_squared_error\n",
    "\n",
    "\n",
    "def rmse(y_true, y_pred):\n",
    "    return np.sqrt(mean_squared_error(y_true, y_pred))"
   ]
  },
  {
   "cell_type": "code",
   "execution_count": 228,
   "metadata": {},
   "outputs": [],
   "source": [
    "# df = pd.read_csv('yelp/review_matrix.csv', header=None, names=['user_id', 'business_id', 'rating'])\n",
    "df = pd.read_csv('orgs.csv', encoding='utf-8')"
   ]
  },
  {
   "cell_type": "code",
   "execution_count": 229,
   "metadata": {},
   "outputs": [],
   "source": [
    "from collections import defaultdict\n",
    "\n",
    "org_id_to_name = dict(zip(df['org_id'], df['org_name']))\n",
    "org_name_to_ids = defaultdict(list)\n",
    "for _org_id, _org_name in org_id_to_name.items():\n",
    "    org_name_to_ids[_org_name].append(_org_id)\n",
    "org_id_to_unique_name = {}\n",
    "for _org_name, _org_ids in org_name_to_ids.items():\n",
    "    if len(_org_ids) == 1:\n",
    "        org_id_to_unique_name[_org_ids[0]] = _org_name\n",
    "    else:\n",
    "        for i, _org_id in enumerate(_org_ids, start=1):\n",
    "            org_id_to_unique_name[_org_id] = f'{_org_name} ({i})'"
   ]
  },
  {
   "cell_type": "code",
   "execution_count": 230,
   "metadata": {},
   "outputs": [],
   "source": [
    "df['unique_name'] = list(map(org_id_to_unique_name.get, df.org_id))"
   ]
  },
  {
   "cell_type": "code",
   "execution_count": 231,
   "metadata": {},
   "outputs": [],
   "source": [
    "df['binary_rating'] = (df['rating'] >= 4).astype(int)"
   ]
  },
  {
   "cell_type": "code",
   "execution_count": 233,
   "metadata": {},
   "outputs": [
    {
     "data": {
      "text/html": [
       "<div>\n",
       "<style scoped>\n",
       "    .dataframe tbody tr th:only-of-type {\n",
       "        vertical-align: middle;\n",
       "    }\n",
       "\n",
       "    .dataframe tbody tr th {\n",
       "        vertical-align: top;\n",
       "    }\n",
       "\n",
       "    .dataframe thead th {\n",
       "        text-align: right;\n",
       "    }\n",
       "</style>\n",
       "<table border=\"1\" class=\"dataframe\">\n",
       "  <thead>\n",
       "    <tr style=\"text-align: right;\">\n",
       "      <th></th>\n",
       "      <th>org_id</th>\n",
       "      <th>user_id</th>\n",
       "      <th>rating</th>\n",
       "      <th>org_name</th>\n",
       "      <th>user_name</th>\n",
       "      <th>text</th>\n",
       "      <th>unique_name</th>\n",
       "      <th>binary_rating</th>\n",
       "    </tr>\n",
       "  </thead>\n",
       "  <tbody>\n",
       "    <tr>\n",
       "      <th>0</th>\n",
       "      <td>ChIJV2V2Ew9LtUYRzMPrmUTvkyk</td>\n",
       "      <td>109475426397838203565</td>\n",
       "      <td>5</td>\n",
       "      <td>Onebucks Сoffee</td>\n",
       "      <td>Елена Луненок</td>\n",
       "      <td>NaN</td>\n",
       "      <td>Onebucks Сoffee (1)</td>\n",
       "      <td>1</td>\n",
       "    </tr>\n",
       "    <tr>\n",
       "      <th>1</th>\n",
       "      <td>ChIJV2V2Ew9LtUYRzMPrmUTvkyk</td>\n",
       "      <td>104454704917743395776</td>\n",
       "      <td>5</td>\n",
       "      <td>Onebucks Сoffee</td>\n",
       "      <td>Isankoulov</td>\n",
       "      <td>NaN</td>\n",
       "      <td>Onebucks Сoffee (1)</td>\n",
       "      <td>1</td>\n",
       "    </tr>\n",
       "    <tr>\n",
       "      <th>2</th>\n",
       "      <td>ChIJV2V2Ew9LtUYRzMPrmUTvkyk</td>\n",
       "      <td>107100762489312073701</td>\n",
       "      <td>5</td>\n",
       "      <td>Onebucks Сoffee</td>\n",
       "      <td>Еlena Pavlova</td>\n",
       "      <td>NaN</td>\n",
       "      <td>Onebucks Сoffee (1)</td>\n",
       "      <td>1</td>\n",
       "    </tr>\n",
       "    <tr>\n",
       "      <th>3</th>\n",
       "      <td>ChIJV2V2Ew9LtUYRzMPrmUTvkyk</td>\n",
       "      <td>114074890317637913080</td>\n",
       "      <td>3</td>\n",
       "      <td>Onebucks Сoffee</td>\n",
       "      <td>Roman K.</td>\n",
       "      <td>NaN</td>\n",
       "      <td>Onebucks Сoffee (1)</td>\n",
       "      <td>0</td>\n",
       "    </tr>\n",
       "    <tr>\n",
       "      <th>4</th>\n",
       "      <td>ChIJV2V2Ew9LtUYRzMPrmUTvkyk</td>\n",
       "      <td>109636902924870482208</td>\n",
       "      <td>5</td>\n",
       "      <td>Onebucks Сoffee</td>\n",
       "      <td>Ольга Волоскова</td>\n",
       "      <td>NaN</td>\n",
       "      <td>Onebucks Сoffee (1)</td>\n",
       "      <td>1</td>\n",
       "    </tr>\n",
       "  </tbody>\n",
       "</table>\n",
       "</div>"
      ],
      "text/plain": [
       "                        org_id                user_id  rating  \\\n",
       "0  ChIJV2V2Ew9LtUYRzMPrmUTvkyk  109475426397838203565       5   \n",
       "1  ChIJV2V2Ew9LtUYRzMPrmUTvkyk  104454704917743395776       5   \n",
       "2  ChIJV2V2Ew9LtUYRzMPrmUTvkyk  107100762489312073701       5   \n",
       "3  ChIJV2V2Ew9LtUYRzMPrmUTvkyk  114074890317637913080       3   \n",
       "4  ChIJV2V2Ew9LtUYRzMPrmUTvkyk  109636902924870482208       5   \n",
       "\n",
       "          org_name        user_name text          unique_name  binary_rating  \n",
       "0  Onebucks Сoffee    Елена Луненок  NaN  Onebucks Сoffee (1)              1  \n",
       "1  Onebucks Сoffee       Isankoulov  NaN  Onebucks Сoffee (1)              1  \n",
       "2  Onebucks Сoffee    Еlena Pavlova  NaN  Onebucks Сoffee (1)              1  \n",
       "3  Onebucks Сoffee         Roman K.  NaN  Onebucks Сoffee (1)              0  \n",
       "4  Onebucks Сoffee  Ольга Волоскова  NaN  Onebucks Сoffee (1)              1  "
      ]
     },
     "execution_count": 233,
     "metadata": {},
     "output_type": "execute_result"
    }
   ],
   "source": [
    "df.head()"
   ]
  },
  {
   "cell_type": "code",
   "execution_count": 232,
   "metadata": {},
   "outputs": [],
   "source": [
    "from abc import ABC\n",
    "\n",
    "\n",
    "class Index:\n",
    "    def __init__(self, dimension, metric='dot'):\n",
    "        self.dimension = dimension\n",
    "        self.index = AnnoyIndex(self.dimension, metric)\n",
    "        self._built = False\n",
    "    \n",
    "    def build(self, vectors, n_trees=10):\n",
    "        assert not self._built\n",
    "        self._built = True\n",
    "        self.index.add_item(vectors.shape[0] - 1, vectors[-1])\n",
    "        for i, vector in enumerate(vectors[:-1]):\n",
    "            self.index.add_item(i, vector)\n",
    "        self.index.build(n_trees)\n",
    "\n",
    "    def search(self, vector, n_closest=20):\n",
    "        return self.index.get_nns_by_vector(vector, n_closest, include_distances=True)\n",
    "\n",
    "\n",
    "class RecommendationModel(ABC):\n",
    "    def __init__(self, dimension):\n",
    "        self.dimension = dimension\n",
    "        self.user_profiles = None\n",
    "        self.item_profiles = None\n",
    "\n",
    "    def _fit(self, ratings):\n",
    "        raise NotImplementedError\n",
    "\n",
    "    def _partial_fit(self, ratings):\n",
    "        raise NotImplementedError\n",
    "\n",
    "    def compute_user_profile(self, item_ids, ratings):\n",
    "        raise NotImplementedError\n",
    "\n",
    "    def _ensure_size(self, field, min_size):\n",
    "        old_value = getattr(self, field)\n",
    "        if old_value is not None and len(old_value) >= min_size:\n",
    "            return\n",
    "        new_value = np.zeros((min_size, self.dimension))\n",
    "        if old_value is not None:\n",
    "            new_value[:len(old_value)] = old_value\n",
    "        setattr(self, field, new_value)\n",
    "    \n",
    "    def _ensure_profile_size(self, ratings):\n",
    "        self._ensure_size('user_profiles', ratings.shape[0])\n",
    "        self._ensure_size('item_profiles', ratings.shape[1])\n",
    "    \n",
    "    def fit(self, ratings):\n",
    "        self._ensure_profile_size(ratings)\n",
    "        self._fit(ratings)\n",
    "\n",
    "    def partial_fit(self, ratings):\n",
    "        self._ensure_profile_size(ratings)\n",
    "        self._partial_fit(ratings)\n",
    "    \n",
    "    def predict(self, user_profiles, item_indices):\n",
    "        return (user_profiles * self.item_profiles[item_indices]).sum(axis=1)\n",
    "\n",
    "\n",
    "class Vocab:\n",
    "    def __init__(self):\n",
    "        self.ids = []\n",
    "        self.id_to_index = {}\n",
    "    \n",
    "    def add_id(self, id_):\n",
    "        if id_ in self.id_to_index:\n",
    "            return\n",
    "        self.ids.append(id_)\n",
    "        self.id_to_index[id_] = len(self.id_to_index)\n",
    "    \n",
    "    def add_ids(self, ids):\n",
    "        for id_ in ids:\n",
    "            self.add_id(id_)\n",
    "\n",
    "    def ids_to_indices(self, ids):\n",
    "        indices = np.array([self.id_to_index.get(id_, -1) for id_ in ids])\n",
    "        unknown = indices == -1\n",
    "        return indices, unknown\n",
    "\n",
    "    def indices_to_ids(self, indices):\n",
    "        if any(index < 0 or index >= len(self.ids) for index in indices):\n",
    "            raise ValueError('Invalid index')\n",
    "        return np.array(list(map(self.ids.__getitem__, indices)))\n",
    "\n",
    "\n",
    "class ModelWrapper:\n",
    "    def __init__(self, model, index):\n",
    "        self.model = model\n",
    "        self.index = index\n",
    "        self.user_vocab = None\n",
    "        self.item_vocab = None\n",
    "\n",
    "        self.total_rating = None\n",
    "        self.rating_count = None\n",
    "    \n",
    "    def _fit(self, fit_method, user_ids, item_ids, ratings):\n",
    "        self.user_vocab.add_ids(user_ids)\n",
    "        self.item_vocab.add_ids(item_ids)\n",
    "        user_indices, _ = self.user_vocab.ids_to_indices(user_ids)\n",
    "        item_indices, _ = self.item_vocab.ids_to_indices(item_ids)\n",
    "        self.total_rating += sum(ratings)\n",
    "        self.rating_count += len(ratings)\n",
    "        return fit_method(scipy.sparse.csr_matrix((ratings, (user_indices, item_indices))))\n",
    "\n",
    "    def fit(self, user_ids, item_ids, ratings):\n",
    "        self.user_vocab = Vocab()\n",
    "        self.item_vocab = Vocab()\n",
    "        self.total_rating = 0\n",
    "        self.rating_count = 0\n",
    "        return self._fit(self.model.fit, user_ids, item_ids, ratings)\n",
    "\n",
    "    def partial_fit(self, user_ids, item_ids, ratings):\n",
    "        return self._fit(self.model.partial_fit, user_ids, item_ids, ratings)\n",
    "\n",
    "    def predict(self, user_profiles, item_ids, default='mean'):\n",
    "        item_indices, unknown = self.item_vocab.ids_to_indices(item_ids)\n",
    "        ratings = self.model.predict(user_profiles, item_indices)\n",
    "        if default == 'mean':\n",
    "            default = self.total_rating / self.rating_count\n",
    "        ratings[unknown] = default\n",
    "        return ratings\n",
    "\n",
    "    def compute_user_profile(self, item_ids, ratings):\n",
    "        item_indices, unknown = self.item_vocab.ids_to_indices(item_ids)\n",
    "        item_indices = item_indices[~unknown]\n",
    "        ratings = ratings[~unknown]\n",
    "        return self.model.compute_user_profile(item_indices, ratings)\n",
    "    \n",
    "    def build_index(self, n_trees=10):\n",
    "        self.index.build(self.model.item_profiles, n_trees=n_trees)\n",
    "\n",
    "    def search(self, profile, n_closest=20):\n",
    "        indices, distances = self.index.search(profile, n_closest=n_closest)\n",
    "        return self.item_vocab.indices_to_ids(indices), distances\n",
    "    \n",
    "    def _get_profiles(self, ids, kind):\n",
    "        indices, unknown = getattr(self, f'{kind}_vocab').ids_to_indices(ids)\n",
    "        profiles = getattr(self.model, f'{kind}_profiles')[indices].copy()\n",
    "        profiles[unknown] = 0\n",
    "        return profiles\n",
    "    \n",
    "    def get_user_profiles(self, user_ids):\n",
    "        return self._get_profiles(user_ids, 'user')\n",
    "    \n",
    "    def get_item_profiles(self, item_ids):\n",
    "        return self._get_profiles(item_ids, 'item')"
   ]
  },
  {
   "cell_type": "code",
   "execution_count": 192,
   "metadata": {},
   "outputs": [],
   "source": [
    "class MeanRatingBaseline(RecommendationModel):    \n",
    "    def _fit(self, ratings):\n",
    "        self.total_rating = 0\n",
    "        self.rating_count = 0\n",
    "        self._partial_fit(ratings)\n",
    "\n",
    "    def _partial_fit(self, ratings):\n",
    "        self.total_rating += sum(ratings.data)\n",
    "        self.rating_count += len(ratings.data)\n",
    "        self.user_profiles[:, -1] = 1\n",
    "        self.item_profiles[:, -1] = self.total_rating / self.rating_count\n",
    "\n",
    "    def compute_user_profile(self, item_ids, ratings):\n",
    "        return self.user_profiles[0]"
   ]
  },
  {
   "cell_type": "code",
   "execution_count": 234,
   "metadata": {},
   "outputs": [],
   "source": [
    "import surprise\n",
    "\n",
    "\n",
    "class PMF(RecommendationModel):\n",
    "    def __init__(self, dimension, rating_scale):\n",
    "        super().__init__(dimension)\n",
    "        self.rating_scale = rating_scale\n",
    "        self.svd = surprise.SVD(n_factors=dimension, biased=False)\n",
    "    \n",
    "    def _fit(self, ratings):\n",
    "        coo = ratings.tocoo()\n",
    "        user_ids = coo.row\n",
    "        item_ids = coo.col\n",
    "        ratings = coo.data\n",
    "        dataset = surprise.Dataset.load_from_df(\n",
    "            pd.DataFrame(dict(user_id=user_ids, item_id=item_ids, rating=ratings)),\n",
    "            surprise.Reader(rating_scale=self.rating_scale))\n",
    "        trainset = dataset.construct_trainset(dataset.raw_ratings)\n",
    "        self.svd.fit(trainset)\n",
    "        self.user_profiles = self.svd.pu\n",
    "        self.item_profiles = self.svd.qi\n",
    "        self.global_mean = trainset.global_mean\n",
    "    \n",
    "    def predict(self, user_profiles, item_indices):\n",
    "        return super().predict(user_profiles, item_indices) + self.global_mean\n",
    "\n",
    "    def compute_user_profile(self, item_ids, ratings):\n",
    "        raise NotImplementedError"
   ]
  },
  {
   "cell_type": "code",
   "execution_count": 194,
   "metadata": {},
   "outputs": [],
   "source": [
    "new_df = df.copy()\n",
    "new_df.loc[len(new_df)] = ['ChIJYfVNhOhKtUYR6V9CClXSsN8', 'asdf', 5, '', '', '', '', 1]\n",
    "new_df.loc[len(new_df)] = ['ChIJkRYTQaZLtUYR4rSX35HHFgU', 'asdf', 1, '', '', '']\n",
    "new_df.loc[len(new_df)] = ['ChIJSx-I8BpLtUYRTyoKmzkiIJU', 'asdf', 5, '', '', '']"
   ]
  },
  {
   "cell_type": "code",
   "execution_count": 201,
   "metadata": {},
   "outputs": [],
   "source": [
    "new_df = df.copy()\n",
    "new_df.loc[len(new_df)] = ['ChIJYfVNhOhKtUYR6V9CClXSsN8', 'asdf', 1, '', '', '']\n",
    "new_df.loc[len(new_df)] = ['ChIJkRYTQaZLtUYR4rSX35HHFgU', 'asdf', 5, '', '', '']\n",
    "new_df.loc[len(new_df)] = ['ChIJSx-I8BpLtUYRTyoKmzkiIJU', 'asdf', 1, '', '', '']"
   ]
  },
  {
   "cell_type": "code",
   "execution_count": 205,
   "metadata": {},
   "outputs": [],
   "source": [
    "new_df = df.copy()\n",
    "new_df.loc[len(new_df)] = ['ChIJD9rPL281tUYRt0ntg-ADVNI', 'asdf', 5, '', '', '']"
   ]
  },
  {
   "cell_type": "code",
   "execution_count": 206,
   "metadata": {},
   "outputs": [],
   "source": [
    "model = PMF(10)\n",
    "index = Index(10)\n",
    "wrapper = ModelWrapper(model, index)\n",
    "wrapper.fit(new_df.user_id, new_df.org_id, new_df.rating)\n",
    "preds = wrapper.predict(wrapper.get_user_profiles(new_df.user_id), new_df.org_id)"
   ]
  },
  {
   "cell_type": "code",
   "execution_count": 207,
   "metadata": {},
   "outputs": [],
   "source": [
    "wrapper.build_index()"
   ]
  },
  {
   "cell_type": "code",
   "execution_count": null,
   "metadata": {},
   "outputs": [],
   "source": []
  },
  {
   "cell_type": "code",
   "execution_count": 200,
   "metadata": {},
   "outputs": [
    {
     "data": {
      "text/plain": [
       "['KFC',\n",
       " 'SoupMe',\n",
       " 'Surf Coffee',\n",
       " 'Kimchi',\n",
       " 'Stolichnyy Vkus, Kafe Bystrogo Pitaniya',\n",
       " 'Friends Forever',\n",
       " 'Wokker',\n",
       " 'Mu-Mu',\n",
       " 'Wake Up',\n",
       " 'Burger Heroes',\n",
       " 'Brown Bar',\n",
       " \"Jamie's Italian\",\n",
       " 'Coffee Point',\n",
       " 'Shokoladnitsa',\n",
       " 'Tacodor',\n",
       " 'Ресторан Peshi',\n",
       " 'Double B',\n",
       " 'Odzhakhuri',\n",
       " 'Correa’s',\n",
       " \"Traveler's Coffee Садовническая\"]"
      ]
     },
     "execution_count": 200,
     "metadata": {},
     "output_type": "execute_result"
    }
   ],
   "source": [
    "list(map(org_id_to_name.get, wrapper.search(wrapper.model.user_profiles[-1])[0]))"
   ]
  },
  {
   "cell_type": "code",
   "execution_count": 208,
   "metadata": {},
   "outputs": [
    {
     "data": {
      "text/plain": [
       "['Telebistro',\n",
       " 'Kroshka Kartoshka',\n",
       " \"O'CONNEL'S PUB&KITCHEN\",\n",
       " 'Set\\' Kofeyen \"Pravda Kofe\"',\n",
       " 'Maestrello',\n",
       " 'Yusupov Dvor',\n",
       " 'Антикварный Boutique & Bar',\n",
       " 'Daily Coffee',\n",
       " 'Zhan-Zhak',\n",
       " 'Shokoladnitsa',\n",
       " 'Fumisawa Sushi',\n",
       " 'Chaynykh Del Masterskaya',\n",
       " 'Rico',\n",
       " 'Burger King',\n",
       " 'Bebi Dzholi',\n",
       " '#mestosilycoffee',\n",
       " 'Shokoladnitsa',\n",
       " '#FARШ',\n",
       " 'Livingston',\n",
       " 'Kafe Na Kursovom']"
      ]
     },
     "execution_count": 208,
     "metadata": {},
     "output_type": "execute_result"
    }
   ],
   "source": [
    "list(map(org_id_to_name.get, wrapper.search(wrapper.model.user_profiles[-1])[0]))"
   ]
  },
  {
   "cell_type": "code",
   "execution_count": 204,
   "metadata": {},
   "outputs": [
    {
     "data": {
      "text/plain": [
       "['Mosgorpitstsa',\n",
       " 'John Donne',\n",
       " 'Left Bank',\n",
       " 'Idе́aliste (Идеалист)',\n",
       " 'Spetsbufet number 7',\n",
       " 'Piazza Italiana',\n",
       " 'Coffee House',\n",
       " 'Vozdukh Kofe',\n",
       " 'Krispy Kreme',\n",
       " 'Jagannath',\n",
       " 'Taychay',\n",
       " 'Tacodor',\n",
       " 'Burger King',\n",
       " 'Scenario Cafe',\n",
       " 'Gin-No Taki',\n",
       " 'Volkonsky',\n",
       " 'Пита&Сувлаки',\n",
       " \"McDonald's\",\n",
       " 'PRIME',\n",
       " 'Terrine']"
      ]
     },
     "execution_count": 204,
     "metadata": {},
     "output_type": "execute_result"
    }
   ],
   "source": [
    "list(map(org_id_to_name.get, wrapper.search(wrapper.model.user_profiles[-1])[0]))"
   ]
  },
  {
   "cell_type": "code",
   "execution_count": 197,
   "metadata": {},
   "outputs": [
    {
     "data": {
      "text/plain": [
       "(array(['ChIJcfZcrTNKtUYRlxCoycVX2NA', 'ChIJ52dhW2lKtUYRNSKxGXP0kNk',\n",
       "        'ChIJrVF9dV5KtUYRVwGt-JTKWTM', 'ChIJVUl6HCJKtUYRBAtxLoKaDJU',\n",
       "        'ChIJh7pkAk5KtUYRWVoWU0MIvkU', 'ChIJsYX9PThKtUYRdkJirSE2T64',\n",
       "        'ChIJI1n3ewlLtUYRbtaybvluka0', 'ChIJM97PijNKtUYRcO6QLFk3KE8',\n",
       "        'ChIJmQQyIaRLtUYRH9uMW0LaXH0', 'ChIJ16rHe_5KtUYR_czIF7gZEhM',\n",
       "        'ChIJcZ5zVltKtUYRZolPIh0BUnw', 'ChIJx30clVpKtUYR0dfWSBUjNJ8',\n",
       "        'ChIJt8a1kABLtUYRBpppGlq35-w', 'ChIJ88WdajRKtUYRxpWAWdKj50Y',\n",
       "        'ChIJMdTpH7VLtUYR8RyJs4O8up8', 'ChIJ7wS06lpKtUYRqEGFUTrKStc',\n",
       "        'ChIJ72A0DKJLtUYRGOf8VL_V78c', 'ChIJofVEtIlKtUYRvYYT1HvgeQ0',\n",
       "        'ChIJl9gkSwJLtUYR2S3J00YEcOU', 'ChIJGSv6ncxLtUYRp9wvODLLoCU'],\n",
       "       dtype='<U27'),\n",
       " [0.2833581864833832,\n",
       "  0.23832646012306213,\n",
       "  0.2307087630033493,\n",
       "  0.21179625391960144,\n",
       "  0.20910611748695374,\n",
       "  0.19907428324222565,\n",
       "  0.197819322347641,\n",
       "  0.19378112256526947,\n",
       "  0.19183586537837982,\n",
       "  0.19161368906497955,\n",
       "  0.19011260569095612,\n",
       "  0.1839590221643448,\n",
       "  0.18376994132995605,\n",
       "  0.18167230486869812,\n",
       "  0.17720934748649597,\n",
       "  0.17706206440925598,\n",
       "  0.17600814998149872,\n",
       "  0.17476718127727509,\n",
       "  0.1723879724740982,\n",
       "  0.16920426487922668])"
      ]
     },
     "execution_count": 197,
     "metadata": {},
     "output_type": "execute_result"
    }
   ],
   "source": [
    "wrapper.search(wrapper.model.user_profiles[-1])"
   ]
  },
  {
   "cell_type": "code",
   "execution_count": 168,
   "metadata": {},
   "outputs": [
    {
     "data": {
      "text/plain": [
       "1.1977828335400185"
      ]
     },
     "execution_count": 168,
     "metadata": {},
     "output_type": "execute_result"
    }
   ],
   "source": [
    "rmse(preds, df.rating)"
   ]
  },
  {
   "cell_type": "code",
   "execution_count": 167,
   "metadata": {},
   "outputs": [
    {
     "data": {
      "text/plain": [
       "1.2129664888265632"
      ]
     },
     "execution_count": 167,
     "metadata": {},
     "output_type": "execute_result"
    }
   ],
   "source": [
    "rmse(np.full_like(df.rating, df.rating.mean()), df.rating)"
   ]
  },
  {
   "cell_type": "code",
   "execution_count": 169,
   "metadata": {},
   "outputs": [
    {
     "data": {
      "image/png": "[encoded data removed]",
      "text/plain": [
       "<Figure size 432x288 with 1 Axes>"
      ]
     },
     "metadata": {
      "needs_background": "light"
     },
     "output_type": "display_data"
    }
   ],
   "source": [
    "plt.hist(preds, bins=20);"
   ]
  },
  {
   "cell_type": "code",
   "execution_count": 145,
   "metadata": {},
   "outputs": [
    {
     "data": {
      "image/png": "[encoded data removed]",
      "text/plain": [
       "<Figure size 432x288 with 1 Axes>"
      ]
     },
     "metadata": {
      "needs_background": "light"
     },
     "output_type": "display_data"
    }
   ],
   "source": [
    "plt.hist(df.rating, bins=5);"
   ]
  },
  {
   "cell_type": "code",
   "execution_count": 199,
   "metadata": {},
   "outputs": [],
   "source": []
  },
  {
   "cell_type": "code",
   "execution_count": null,
   "metadata": {},
   "outputs": [],
   "source": []
  }
 ],
 "metadata": {
  "kernelspec": {
   "display_name": "Python 3",
   "language": "python",
   "name": "python3"
  },
  "language_info": {
   "codemirror_mode": {
    "name": "ipython",
    "version": 3
   },
   "file_extension": ".py",
   "mimetype": "text/x-python",
   "name": "python",
   "nbconvert_exporter": "python",
   "pygments_lexer": "ipython3",
   "version": "3.7.1"
  }
 },
 "nbformat": 4,
 "nbformat_minor": 2
}
